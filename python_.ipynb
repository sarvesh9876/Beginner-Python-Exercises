{
  "nbformat": 4,
  "nbformat_minor": 0,
  "metadata": {
    "colab": {
      "provenance": [],
      "authorship_tag": "ABX9TyMrufGnHPEpyt4qMSwpsNoE",
      "include_colab_link": true
    },
    "kernelspec": {
      "name": "python3",
      "display_name": "Python 3"
    },
    "language_info": {
      "name": "python"
    }
  },
  "cells": [
    {
      "cell_type": "markdown",
      "metadata": {
        "id": "view-in-github",
        "colab_type": "text"
      },
      "source": [
        "<a href=\"https://colab.research.google.com/github/sarvesh9876/Beginner-Python-Exercises/blob/python_exercise_practice/python_.ipynb\" target=\"_parent\"><img src=\"https://colab.research.google.com/assets/colab-badge.svg\" alt=\"Open In Colab\"/></a>"
      ]
    },
    {
      "cell_type": "code",
      "execution_count": null,
      "metadata": {
        "colab": {
          "base_uri": "https://localhost:8080/"
        },
        "id": "Uuwe2PWvi04G",
        "outputId": "63f43baf-0271-4e01-a664-1b6664dadbc8"
      },
      "outputs": [
        {
          "output_type": "stream",
          "name": "stdout",
          "text": [
            "1000 loops, best of 5: 272 µs per loop\n"
          ]
        }
      ],
      "source": [
        "import numpy as np\n",
        "\n",
        "%timeit L = [n ** 2 for n in range(1000)]"
      ]
    },
    {
      "cell_type": "code",
      "source": [
        "class InputString():\n",
        "  def __init__(self) -> None:\n",
        "    self.s = ''\n",
        "  \n",
        "  def inputString(self):\n",
        "    self.s = input()\n",
        "  \n",
        "  def printString(self):\n",
        "    print(\"Input string is: \", self.s.upper())\n",
        "\n",
        "a = InputString()\n",
        "a.inputString()\n",
        "a.printString()"
      ],
      "metadata": {
        "colab": {
          "base_uri": "https://localhost:8080/"
        },
        "id": "vti5JcjYlfR-",
        "outputId": "ff76d2cc-463d-4b20-edda-e01270c599e7"
      },
      "execution_count": null,
      "outputs": [
        {
          "output_type": "stream",
          "name": "stdout",
          "text": [
            "sarvesh\n",
            "Input string is:  SARVESH\n"
          ]
        }
      ]
    },
    {
      "cell_type": "code",
      "source": [
        "def CH(D:int)-> int:\n",
        "  C, H = 50, 30\n",
        "  return int(round(np.sqrt((2*C*D)/H)))\n",
        "\n",
        "D = [int(ele) for ele in input().split()]\n",
        "\n",
        "for ele in D:\n",
        "  print(CH(ele), end=\" \")\n",
        "\n",
        "val = []\n",
        "\n",
        "for element in D:\n",
        "  val.append(str(CH(element)))\n",
        "print(','.join(val))"
      ],
      "metadata": {
        "colab": {
          "base_uri": "https://localhost:8080/"
        },
        "id": "5ZwdipdJoJns",
        "outputId": "d3c60e3a-44b8-43f1-d7ef-83b81bf776ac"
      },
      "execution_count": null,
      "outputs": [
        {
          "output_type": "stream",
          "name": "stdout",
          "text": [
            "100 150 180\n",
            "18 22 24 18,22,24\n"
          ]
        }
      ]
    },
    {
      "cell_type": "code",
      "source": [
        "# join method experimentation\n",
        "\n",
        "myDict = {\"name\": \"John\", \"country\": \"Norway\", \"sar\":\"kumar\"}\n",
        "mySeparator = \"TEST\"\n",
        "\n",
        "x = mySeparator.join(myDict)\n",
        "\n",
        "print(x)"
      ],
      "metadata": {
        "colab": {
          "base_uri": "https://localhost:8080/"
        },
        "id": "ou_yNgjKoP7J",
        "outputId": "547e4df7-e8fc-426c-9218-b740caa9ab3b"
      },
      "execution_count": null,
      "outputs": [
        {
          "output_type": "stream",
          "name": "stdout",
          "text": [
            "nameTESTcountryTESTsar\n"
          ]
        }
      ]
    },
    {
      "cell_type": "code",
      "source": [
        "import tracemalloc\n",
        "# Store 25 frames\n",
        "tracemalloc.start(25)\n",
        "X, Y = input().split()\n",
        "mat = np.zeros((int(X), int(Y)))\n",
        "for i in  range(mat.shape[0]):\n",
        "  for j in range(mat.shape[1]):\n",
        "    mat[i][j] = i*j\n",
        "\n",
        "\n",
        "snapshot = tracemalloc.take_snapshot()\n",
        "top_stats = snapshot.statistics('traceback')\n",
        "\n",
        "# pick the biggest memory block\n",
        "stat = top_stats[0]\n",
        "print(\"%s memory blocks: %.1f KiB\" % (stat.count, stat.size / 1024))\n",
        "for line in stat.traceback.format():\n",
        "    print(line)"
      ],
      "metadata": {
        "colab": {
          "base_uri": "https://localhost:8080/"
        },
        "id": "8tj0eJLWoi0-",
        "outputId": "6ee107a1-b22e-4901-a98d-87c29a0bf35a"
      },
      "execution_count": null,
      "outputs": [
        {
          "output_type": "stream",
          "name": "stdout",
          "text": [
            "3 5\n",
            "1 memory blocks: 9.0 KiB\n",
            "  File \"/usr/lib/python3.7/threading.py\", line 890\n",
            "    self._bootstrap_inner()\n",
            "  File \"/usr/lib/python3.7/threading.py\", line 926\n",
            "    self.run()\n",
            "  File \"/usr/local/lib/python3.7/dist-packages/debugpy/_vendored/pydevd/_pydevd_bundle/pydevd_daemon_thread.py\", line 46\n",
            "    self._on_run()\n",
            "  File \"/usr/local/lib/python3.7/dist-packages/debugpy/_vendored/pydevd/pydevd.py\", line 182\n",
            "    self.py_db.process_internal_commands()\n",
            "  File \"/usr/local/lib/python3.7/dist-packages/debugpy/_vendored/pydevd/pydevd.py\", line 1575\n",
            "    if int_cmd.can_be_executed_by(curr_thread_id):\n",
            "  File \"/usr/local/lib/python3.7/dist-packages/debugpy/_vendored/pydevd/_pydevd_bundle/pydevd_comm.py\", line 594\n",
            "    py_db, self.seq, self.thread_id, frame, self._fmt, must_be_suspended=not timed_out, start_frame=self._start_frame, levels=self._levels)\n",
            "  File \"/usr/local/lib/python3.7/dist-packages/debugpy/_vendored/pydevd/_pydevd_bundle/pydevd_net_command_factory_json.py\", line 252\n",
            "    original_filename)\n",
            "  File \"/usr/local/lib/python3.7/dist-packages/debugpy/_vendored/pydevd/pydevd_file_utils.py\", line 626\n",
            "    _line_cache_source_reference_to_server_filename[source_reference] = server_filename\n"
          ]
        }
      ]
    },
    {
      "cell_type": "code",
      "source": [
        "mat"
      ],
      "metadata": {
        "colab": {
          "base_uri": "https://localhost:8080/"
        },
        "id": "6HUu2JNNoo9h",
        "outputId": "928b08a9-ec24-45a9-b8ff-aac21f85f3be"
      },
      "execution_count": null,
      "outputs": [
        {
          "output_type": "execute_result",
          "data": {
            "text/plain": [
              "array([[0., 0., 0., 0., 0.],\n",
              "       [0., 1., 2., 3., 4.],\n",
              "       [0., 2., 4., 6., 8.]])"
            ]
          },
          "metadata": {},
          "execution_count": 58
        }
      ]
    },
    {
      "cell_type": "code",
      "source": [
        "# without using numpy \n",
        "\n",
        "input_str = input()\n",
        "dimension = [int(x) for x in input_str.split()]\n",
        "rows = dimension[0]\n",
        "cols = dimension[1]\n",
        "print(rows, type(rows))\n",
        "\n",
        "matrix = [[0 for ele in range(cols)] for el in range(rows)]\n",
        "\n",
        "for row in range(rows):\n",
        "  for col in range(cols):\n",
        "    matrix[row][col] = row*col\n"
      ],
      "metadata": {
        "colab": {
          "base_uri": "https://localhost:8080/"
        },
        "id": "yJiyMq758Tcd",
        "outputId": "bed1b6af-019a-48e2-a708-f376b9a5c38e"
      },
      "execution_count": null,
      "outputs": [
        {
          "output_type": "stream",
          "name": "stdout",
          "text": [
            "3 5\n",
            "3 <class 'int'>\n"
          ]
        }
      ]
    },
    {
      "cell_type": "code",
      "source": [
        "matrix"
      ],
      "metadata": {
        "colab": {
          "base_uri": "https://localhost:8080/"
        },
        "id": "IcpJQGpk8eOk",
        "outputId": "6715013e-8e77-4e5b-dfd0-a03889da2dd5"
      },
      "execution_count": null,
      "outputs": [
        {
          "output_type": "execute_result",
          "data": {
            "text/plain": [
              "[[0, 0, 0, 0, 0], [0, 1, 2, 3, 4], [0, 2, 4, 6, 8]]"
            ]
          },
          "metadata": {},
          "execution_count": 63
        }
      ]
    },
    {
      "cell_type": "code",
      "source": [
        "input_str = input()\n",
        "words = [ele for ele in input_str.split(' ')] \n",
        "words.sort() # This works inplace \n",
        "print(', '.join(words))"
      ],
      "metadata": {
        "colab": {
          "base_uri": "https://localhost:8080/"
        },
        "id": "668ey0DjtCjX",
        "outputId": "1defda78-f9b3-4f34-a1ad-0a8c320cd6cf"
      },
      "execution_count": null,
      "outputs": [
        {
          "name": "stdout",
          "output_type": "stream",
          "text": [
            "with all the\n"
          ]
        }
      ]
    },
    {
      "cell_type": "code",
      "source": [
        "input_str = input()\n",
        "words = [ele.upper() for ele in input_str.split(' ')]\n",
        "print(', '.join(words))\n"
      ],
      "metadata": {
        "colab": {
          "base_uri": "https://localhost:8080/"
        },
        "id": "NhS_JYhC1l5a",
        "outputId": "7727bb7c-3882-417d-b13c-e95259bb1044"
      },
      "execution_count": null,
      "outputs": [
        {
          "output_type": "stream",
          "name": "stdout",
          "text": [
            "with all the\n",
            "WITH, ALL, THE\n"
          ]
        }
      ]
    },
    {
      "cell_type": "code",
      "source": [
        "lines= []\n",
        "while True:\n",
        "  s = input()\n",
        "  if s:\n",
        "    lines.append(s.upper())\n",
        "  else:\n",
        "    break\n",
        "\n",
        "for sentence in lines:\n",
        "  print(sentence)\n"
      ],
      "metadata": {
        "colab": {
          "base_uri": "https://localhost:8080/"
        },
        "id": "oSTRbpj41syk",
        "outputId": "0dfa8791-500d-4e2b-8c18-64fcc038c5da"
      },
      "execution_count": null,
      "outputs": [
        {
          "output_type": "stream",
          "name": "stdout",
          "text": [
            "a \n",
            "\n",
            "A \n"
          ]
        }
      ]
    },
    {
      "cell_type": "code",
      "source": [
        "input_str = input()\n",
        "d = {}\n",
        "words = [ele for ele in input_str.split()]\n",
        "for ele in words:\n",
        "  if ele in d.keys():\n",
        "    d[ele] +=1\n",
        "  else:\n",
        "    d[ele] = 0\n",
        "print(sorted(d)) # function to sort the keys in the dictionary.\n"
      ],
      "metadata": {
        "colab": {
          "base_uri": "https://localhost:8080/"
        },
        "id": "Gj11LVX91169",
        "outputId": "94ebb7aa-e395-4e01-9f13-56b4a403f77e"
      },
      "execution_count": null,
      "outputs": [
        {
          "output_type": "stream",
          "name": "stdout",
          "text": [
            "sar sar kum kum word word hello \n",
            "['hello', 'kum', 'sar', 'word']\n"
          ]
        }
      ]
    },
    {
      "cell_type": "markdown",
      "source": [],
      "metadata": {
        "id": "h_ZUMTTOlIwU"
      }
    },
    {
      "cell_type": "code",
      "source": [
        "# Let’s try to find the second maximum element using lambda. \n",
        "import pdb\n",
        "\n",
        "List = [[2,3,4],[1, 4, 16, 64],[3, 6, 9, 12]]\n",
        "\n",
        "sortlist = lambda List: (sorted(x) for x in List)\n",
        "# breakpoint()\n",
        "secondElement = lambda x, f : [y[len(y) -2] for y in f(x)]\n",
        "\n",
        "result = secondElement(List, sortlist)"
      ],
      "metadata": {
        "colab": {
          "base_uri": "https://localhost:8080/"
        },
        "id": "wDiohdjvT_fy",
        "outputId": "cff514f1-fdf2-459e-8d67-8bc07efa549e"
      },
      "execution_count": null,
      "outputs": [
        {
          "name": "stdout",
          "output_type": "stream",
          "text": [
            "--Return--\n",
            "> <ipython-input-12-bc3a426be355>(7)<module>()->None\n",
            "-> breakpoint()\n",
            "(Pdb) n\n",
            "> /usr/local/lib/python3.7/dist-packages/IPython/core/interactiveshell.py(2885)run_code()\n",
            "-> sys.excepthook = old_excepthook\n",
            "(Pdb) n\n",
            "> /usr/local/lib/python3.7/dist-packages/IPython/core/interactiveshell.py(2901)run_code()\n",
            "-> outflag = 0\n",
            "(Pdb) n\n",
            "> /usr/local/lib/python3.7/dist-packages/IPython/core/interactiveshell.py(2902)run_code()\n",
            "-> return outflag\n",
            "(Pdb) n\n",
            "--Return--\n",
            "> /usr/local/lib/python3.7/dist-packages/IPython/core/interactiveshell.py(2902)run_code()->0\n",
            "-> return outflag\n",
            "(Pdb) n\n",
            "> /usr/local/lib/python3.7/dist-packages/IPython/core/interactiveshell.py(2819)run_ast_nodes()\n",
            "-> for i, node in enumerate(to_run_exec):\n",
            "(Pdb) n\n",
            "> /usr/local/lib/python3.7/dist-packages/IPython/core/interactiveshell.py(2820)run_ast_nodes()\n",
            "-> mod = ast.Module([node])\n",
            "(Pdb) n\n",
            "> /usr/local/lib/python3.7/dist-packages/IPython/core/interactiveshell.py(2821)run_ast_nodes()\n",
            "-> code = compiler(mod, cell_name, \"exec\")\n",
            "(Pdb) n\n",
            "> /usr/local/lib/python3.7/dist-packages/IPython/core/interactiveshell.py(2822)run_ast_nodes()\n",
            "-> if self.run_code(code, result):\n",
            "(Pdb) n\n",
            "> /usr/local/lib/python3.7/dist-packages/IPython/core/interactiveshell.py(2819)run_ast_nodes()\n",
            "-> for i, node in enumerate(to_run_exec):\n",
            "(Pdb) n\n",
            "> /usr/local/lib/python3.7/dist-packages/IPython/core/interactiveshell.py(2820)run_ast_nodes()\n",
            "-> mod = ast.Module([node])\n",
            "(Pdb) n\n",
            "> /usr/local/lib/python3.7/dist-packages/IPython/core/interactiveshell.py(2821)run_ast_nodes()\n",
            "-> code = compiler(mod, cell_name, \"exec\")\n",
            "(Pdb) n\n",
            "> /usr/local/lib/python3.7/dist-packages/IPython/core/interactiveshell.py(2822)run_ast_nodes()\n",
            "-> if self.run_code(code, result):\n",
            "(Pdb) n\n",
            "> /usr/local/lib/python3.7/dist-packages/IPython/core/interactiveshell.py(2819)run_ast_nodes()\n",
            "-> for i, node in enumerate(to_run_exec):\n",
            "(Pdb) n\n",
            "> /usr/local/lib/python3.7/dist-packages/IPython/core/interactiveshell.py(2825)run_ast_nodes()\n",
            "-> for i, node in enumerate(to_run_interactive):\n",
            "(Pdb) n\n",
            "> /usr/local/lib/python3.7/dist-packages/IPython/core/interactiveshell.py(2832)run_ast_nodes()\n",
            "-> if softspace(sys.stdout, 0):\n",
            "(Pdb) n\n",
            "> /usr/local/lib/python3.7/dist-packages/IPython/core/interactiveshell.py(2850)run_ast_nodes()\n",
            "-> return False\n",
            "(Pdb) n\n",
            "--Return--\n",
            "> /usr/local/lib/python3.7/dist-packages/IPython/core/interactiveshell.py(2850)run_ast_nodes()->False\n",
            "-> return False\n",
            "(Pdb) c\n"
          ]
        }
      ]
    },
    {
      "cell_type": "code",
      "source": [
        "print(result)"
      ],
      "metadata": {
        "colab": {
          "base_uri": "https://localhost:8080/"
        },
        "id": "DT2nKb9xnNxD",
        "outputId": "fe739ad0-6e5c-494b-c78e-dcefaf7db3d0"
      },
      "execution_count": null,
      "outputs": [
        {
          "output_type": "stream",
          "name": "stdout",
          "text": [
            "[3, 16, 9]\n"
          ]
        }
      ]
    },
    {
      "cell_type": "code",
      "source": [],
      "metadata": {
        "id": "fgn3Jap2nYGv"
      },
      "execution_count": null,
      "outputs": []
    }
  ]
}